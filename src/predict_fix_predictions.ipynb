{
 "cells": [
  {
   "cell_type": "code",
   "execution_count": 1,
   "metadata": {},
   "outputs": [],
   "source": [
    "import numpy as np\n",
    "\n",
    "import joblib\n",
    "import torch\n",
    "\n",
    "import config\n",
    "import dataset\n",
    "import engine\n",
    "from model import EntityModel\n",
    "\n"
   ]
  },
  {
   "cell_type": "code",
   "execution_count": 2,
   "metadata": {},
   "outputs": [
    {
     "name": "stderr",
     "output_type": "stream",
     "text": [
      "/home/mano/anaconda3/lib/python3.8/site-packages/sklearn/base.py:313: UserWarning: Trying to unpickle estimator LabelEncoder from version 0.23.1 when using version 0.22.1. This might lead to breaking code or invalid results. Use at your own risk.\n",
      "  warnings.warn(\n"
     ]
    }
   ],
   "source": [
    "meta_data = joblib.load(\"demo_meta.bin\")\n",
    "enc_tag = meta_data[\"enc_tag\"]\n",
    "\n",
    "num_tag = len(list(enc_tag.classes_))\n",
    "\n"
   ]
  },
  {
   "cell_type": "code",
   "execution_count": 3,
   "metadata": {},
   "outputs": [],
   "source": [
    "model = EntityModel(num_tag=num_tag)\n",
    "model.load_state_dict(torch.load(config.MODEL_PATH))\n",
    "device = torch.device(\"cuda\") if torch.cuda.is_available() else torch.device(\"cpu\") \n",
    "if torch.cuda.is_available(): model.to(device)\n"
   ]
  },
  {
   "cell_type": "code",
   "execution_count": 4,
   "metadata": {
    "scrolled": false
   },
   "outputs": [
    {
     "name": "stdout",
     "output_type": "stream",
     "text": [
      "['president', 'donald', 'trump', 'may', 'have', 'broken', 'a', 'u.s.', 'federal', 'law', 'and', 'a', 'georgia', 'law', 'against', 'election', 'tampering', 'by', 'pressuring', 'the', \"state's\", 'top', 'election', 'official', 'to', '\"find\"', 'enough', 'votes', 'to', 'overturn', 'his', 'loss', 'to', 'president-elect', 'joe', 'biden', 'in', 'the', 'state,', 'according', 'to', 'some', 'legal', 'experts.']\n",
      "[101, 2343, 6221, 8398, 2089, 2031, 3714, 1037, 1057, 1012, 1055, 1012, 2976, 2375, 1998, 1037, 4108, 2375, 2114, 2602, 17214, 4842, 2075, 2011, 2811, 12228, 1996, 2110, 1005, 1055, 2327, 2602, 2880, 2000, 1000, 2424, 1000, 2438, 4494, 2000, 2058, 22299, 2010, 3279, 2000, 2343, 1011, 11322, 3533, 7226, 2368, 1999, 1996, 2110, 1010, 2429, 2000, 2070, 3423, 8519, 1012, 102]\n",
      "['[CLS]', 'president', 'donald', 'trump', 'may', 'have', 'broken', 'a', 'u', '.', 's', '.', 'federal', 'law', 'and', 'a', 'georgia', 'law', 'against', 'election', 'tam', '##per', '##ing', 'by', 'press', '##uring', 'the', 'state', \"'\", 's', 'top', 'election', 'official', 'to', '\"', 'find', '\"', 'enough', 'votes', 'to', 'over', '##turn', 'his', 'loss', 'to', 'president', '-', 'elect', 'joe', 'bid', '##en', 'in', 'the', 'state', ',', 'according', 'to', 'some', 'legal', 'experts', '.', '[SEP]']\n"
     ]
    }
   ],
   "source": [
    "sentence = \"\"\"\n",
    "President Donald Trump may have broken a U.S. federal law and a Georgia law against election tampering by pressuring the state's top election official to \"find\" enough votes to overturn his loss to President-elect Joe Biden in the state, according to some legal experts.\n",
    "\"\"\"\n",
    "sentence = sentence.lower()\n",
    "tokenized_sentence = config.TOKENIZER.encode(sentence)\n",
    "\n",
    "sentence = sentence.split()\n",
    "print(sentence)\n",
    "print(tokenized_sentence)\n",
    "print(config.TOKENIZER.convert_ids_to_tokens(tokenized_sentence))\n",
    "\n",
    "test_dataset = dataset.EntityDataset(\n",
    "    texts=[sentence],\n",
    "    tags=[[0] * len(sentence)], O_tag_id= enc_tag.transform([\"O\"])[0]\n",
    ")\n",
    "\n"
   ]
  },
  {
   "cell_type": "markdown",
   "metadata": {},
   "source": [
    "## Custom Data"
   ]
  },
  {
   "cell_type": "code",
   "execution_count": 5,
   "metadata": {},
   "outputs": [],
   "source": [
    "import train"
   ]
  },
  {
   "cell_type": "code",
   "execution_count": 6,
   "metadata": {},
   "outputs": [],
   "source": [
    "from sklearn import preprocessing\n",
    "from sklearn import model_selection"
   ]
  },
  {
   "cell_type": "code",
   "execution_count": 7,
   "metadata": {},
   "outputs": [],
   "source": [
    "sentences, tag, enc_tag = train.process_data_conll(\"../input/train.tsv\")\n",
    "\n",
    "num_tag = len(list(enc_tag.classes_))\n",
    "\n",
    "(\n",
    "    train_sentences,\n",
    "    test_sentences,\n",
    "    train_tag,\n",
    "    test_tag\n",
    ") = model_selection.train_test_split(sentences, tag, random_state=config.RANDOM_STATE, test_size=0.1)"
   ]
  },
  {
   "cell_type": "code",
   "execution_count": 8,
   "metadata": {},
   "outputs": [],
   "source": [
    "valid_dataset = dataset.EntityDataset(\n",
    "    texts=test_sentences, tags=test_tag, O_tag_id= enc_tag.transform([\"O\"])[0]\n",
    ")\n",
    "\n",
    "valid_data_loader = torch.utils.data.DataLoader(\n",
    "    valid_dataset, batch_size=config.VALID_BATCH_SIZE, num_workers=1\n",
    ")"
   ]
  },
  {
   "cell_type": "code",
   "execution_count": null,
   "metadata": {},
   "outputs": [],
   "source": []
  },
  {
   "cell_type": "code",
   "execution_count": null,
   "metadata": {},
   "outputs": [],
   "source": []
  },
  {
   "cell_type": "code",
   "execution_count": 9,
   "metadata": {},
   "outputs": [],
   "source": [
    "y_pred = []\n",
    "y_ground = []\n",
    "\n",
    "model.eval()\n",
    "for data in (valid_data_loader):\n",
    "    sentence_lengths = data[\"length\"].tolist()\n",
    "    for k, v in data.items(): #BioBERT is taking alot of space\n",
    "        data[k] = v.to(device)\n",
    "    tags, loss = model(data[\"ids\"],data[\"mask\"], data[\"token_type_ids\"], data[\"target_tag\"])\n",
    "    for ix, tag in enumerate(tags):\n",
    "        result = enc_tag.inverse_transform(\n",
    "                tag.argmax(1).cpu().numpy()\n",
    "            )\n",
    "        \n",
    "        y_pred.extend(result[:sentence_lengths[ix]])\n",
    "\n",
    "        ground_truth_seq = data[\"target_tag\"][ix][:sentence_lengths[ix]].tolist()\n",
    "        ground_truth = enc_tag.inverse_transform(ground_truth_seq)\n",
    "        y_ground.extend(ground_truth)\n"
   ]
  },
  {
   "cell_type": "code",
   "execution_count": 10,
   "metadata": {},
   "outputs": [],
   "source": [
    "from sklearn.metrics import classification_report"
   ]
  },
  {
   "cell_type": "code",
   "execution_count": 15,
   "metadata": {},
   "outputs": [
    {
     "name": "stdout",
     "output_type": "stream",
     "text": [
      "              precision    recall  f1-score   support\n",
      "\n",
      "       B-art       0.00      0.05      0.00        41\n",
      "       B-eve       0.00      0.00      0.00        32\n",
      "       B-geo       0.78      0.29      0.43      3572\n",
      "       B-gpe       1.00      0.00      0.00      1360\n",
      "       B-nat       0.00      0.00      0.00        22\n",
      "       B-org       0.21      0.12      0.15      2166\n",
      "       B-per       0.45      0.05      0.10      1765\n",
      "       B-tim       0.87      0.28      0.43      1578\n",
      "       I-art       0.00      0.00      0.00        14\n",
      "       I-eve       0.00      0.00      0.00        28\n",
      "       I-geo       0.72      0.15      0.24       527\n",
      "       I-gpe       0.00      0.00      0.00        13\n",
      "       I-nat       0.00      0.00      0.00         3\n",
      "       I-org       0.07      0.00      0.01      1408\n",
      "       I-per       0.76      0.03      0.06      1582\n",
      "       I-tim       0.85      0.47      0.60       434\n",
      "           O       0.87      0.94      0.90     76937\n",
      "\n",
      "    accuracy                           0.82     91482\n",
      "   macro avg       0.39      0.14      0.17     91482\n",
      "weighted avg       0.83      0.82      0.79     91482\n",
      "\n"
     ]
    }
   ],
   "source": [
    "print(classification_report(y_pred=(y_pred), y_true=(y_ground), labels=enc_tag.classes_))"
   ]
  },
  {
   "cell_type": "code",
   "execution_count": 12,
   "metadata": {},
   "outputs": [
    {
     "data": {
      "text/plain": [
       "array(['B-art', 'O', 'O', ..., 'O', 'O', 'O'], dtype='<U5')"
      ]
     },
     "execution_count": 12,
     "metadata": {},
     "output_type": "execute_result"
    }
   ],
   "source": [
    "np.array(y_pred)"
   ]
  },
  {
   "cell_type": "code",
   "execution_count": null,
   "metadata": {},
   "outputs": [],
   "source": []
  },
  {
   "cell_type": "code",
   "execution_count": 9,
   "metadata": {},
   "outputs": [],
   "source": [
    "bpe_tok_sent = config.TOKENIZER.convert_ids_to_tokens(tokenized_sentence)\n",
    "result = enc_tag.inverse_transform(\n",
    "            tag.argmax(2).cpu().numpy().reshape(-1)\n",
    "        )[:len(tokenized_sentence)]"
   ]
  },
  {
   "cell_type": "markdown",
   "metadata": {},
   "source": [
    "['president', 'donald', 'trump', 'may', 'have', 'broken', 'a', 'u.s.', 'federal', 'law', 'and', 'a', 'georgia', 'law', 'against', 'election', 'tampering', 'by', 'pressuring', 'the', \"state's\", 'top', 'election', 'official', 'to', '\"find\"', 'enough', 'votes', 'to', 'overturn', 'his', 'loss', 'to', 'president-elect', 'joe', 'biden', 'in', 'the', 'state,', 'according', 'to', 'some', 'legal', 'experts.']\n",
    "\n",
    "[101, 2343, 6221, 8398, 2089, 2031, 3714, 1037, 1057, 1012, 1055, 1012, 2976, 2375, 1998, 1037, 4108, 2375, 2114, 2602, 17214, 4842, 2075, 2011, 2811, 12228, 1996, 2110, 1005, 1055, 2327, 2602, 2880, 2000, 1000, 2424, 1000, 2438, 4494, 2000, 2058, 22299, 2010, 3279, 2000, 2343, 1011, 11322, 3533, 7226, 2368, 1999, 1996, 2110, 1010, 2429, 2000, 2070, 3423, 8519, 1012, 102]\n",
    "\n",
    "['[CLS]', 'president', 'donald', 'trump', 'may', 'have', 'broken', 'a', 'u', '.', 's', '.', 'federal', 'law', 'and', 'a', 'georgia', 'law', 'against', 'election', 'tam', '##per', '##ing', 'by', 'press', '##uring', 'the', 'state', \"'\", 's', 'top', 'election', 'official', 'to', '\"', 'find', '\"', 'enough', 'votes', 'to', 'over', '##turn', 'his', 'loss', 'to', 'president', '-', 'elect', 'joe', 'bid', '##en', 'in', 'the', 'state', ',', 'according', 'to', 'some', 'legal', 'experts', '.', '[SEP]']"
   ]
  },
  {
   "cell_type": "markdown",
   "metadata": {},
   "source": [
    "### Assign first BPE token's tag to other BPE tokens"
   ]
  },
  {
   "cell_type": "code",
   "execution_count": 39,
   "metadata": {
    "scrolled": true
   },
   "outputs": [],
   "source": [
    "prev_tok_tag = ''\n",
    "\n",
    "\n",
    "concatenated_bpe = ''\n",
    "concatenated_bpes = []\n",
    "concatenated_tags = []\n",
    "\n",
    "new_result = []\n",
    "for idx, (bpe_tok, tag) in enumerate(zip(bpe_tok_sent, result)):\n",
    "    if not \"##\" in bpe_tok:\n",
    "        if idx!=0: \n",
    "            concatenated_bpes.append(concatenated_bpe)\n",
    "            concatenated_tags.append(main_tok_tag)\n",
    "        concatenated_bpe = ''\n",
    "        concatenated_bpe+=(bpe_tok).replace(\"##\",\"\")\n",
    "        main_tok_tag = tag\n",
    "    else:\n",
    "        concatenated_bpe+=(bpe_tok).replace(\"##\",\"\")"
   ]
  },
  {
   "cell_type": "code",
   "execution_count": null,
   "metadata": {},
   "outputs": [],
   "source": []
  },
  {
   "cell_type": "code",
   "execution_count": null,
   "metadata": {},
   "outputs": [],
   "source": []
  },
  {
   "cell_type": "markdown",
   "metadata": {},
   "source": [
    "### Sklearn sample"
   ]
  },
  {
   "cell_type": "code",
   "execution_count": 1,
   "metadata": {},
   "outputs": [],
   "source": [
    "import pandas as pd\n",
    "import numpy as np\n",
    "from sklearn.feature_extraction import DictVectorizer\n",
    "from sklearn.feature_extraction.text import HashingVectorizer\n",
    "from sklearn.linear_model import Perceptron\n",
    "from sklearn.model_selection import train_test_split\n",
    "from sklearn.linear_model import SGDClassifier\n",
    "from sklearn.linear_model import PassiveAggressiveClassifier\n",
    "from sklearn.naive_bayes import MultinomialNB\n",
    "from sklearn.metrics import classification_report"
   ]
  },
  {
   "cell_type": "code",
   "execution_count": 2,
   "metadata": {},
   "outputs": [
    {
     "data": {
      "text/html": [
       "<div>\n",
       "<style scoped>\n",
       "    .dataframe tbody tr th:only-of-type {\n",
       "        vertical-align: middle;\n",
       "    }\n",
       "\n",
       "    .dataframe tbody tr th {\n",
       "        vertical-align: top;\n",
       "    }\n",
       "\n",
       "    .dataframe thead th {\n",
       "        text-align: right;\n",
       "    }\n",
       "</style>\n",
       "<table border=\"1\" class=\"dataframe\">\n",
       "  <thead>\n",
       "    <tr style=\"text-align: right;\">\n",
       "      <th></th>\n",
       "      <th>Sentence #</th>\n",
       "      <th>Word</th>\n",
       "      <th>POS</th>\n",
       "      <th>Tag</th>\n",
       "    </tr>\n",
       "  </thead>\n",
       "  <tbody>\n",
       "    <tr>\n",
       "      <th>0</th>\n",
       "      <td>Sentence: 1</td>\n",
       "      <td>Thousands</td>\n",
       "      <td>NNS</td>\n",
       "      <td>O</td>\n",
       "    </tr>\n",
       "    <tr>\n",
       "      <th>1</th>\n",
       "      <td>NaN</td>\n",
       "      <td>of</td>\n",
       "      <td>IN</td>\n",
       "      <td>O</td>\n",
       "    </tr>\n",
       "    <tr>\n",
       "      <th>2</th>\n",
       "      <td>NaN</td>\n",
       "      <td>demonstrators</td>\n",
       "      <td>NNS</td>\n",
       "      <td>O</td>\n",
       "    </tr>\n",
       "    <tr>\n",
       "      <th>3</th>\n",
       "      <td>NaN</td>\n",
       "      <td>have</td>\n",
       "      <td>VBP</td>\n",
       "      <td>O</td>\n",
       "    </tr>\n",
       "    <tr>\n",
       "      <th>4</th>\n",
       "      <td>NaN</td>\n",
       "      <td>marched</td>\n",
       "      <td>VBN</td>\n",
       "      <td>O</td>\n",
       "    </tr>\n",
       "  </tbody>\n",
       "</table>\n",
       "</div>"
      ],
      "text/plain": [
       "    Sentence #           Word  POS Tag\n",
       "0  Sentence: 1      Thousands  NNS   O\n",
       "1          NaN             of   IN   O\n",
       "2          NaN  demonstrators  NNS   O\n",
       "3          NaN           have  VBP   O\n",
       "4          NaN        marched  VBN   O"
      ]
     },
     "execution_count": 2,
     "metadata": {},
     "output_type": "execute_result"
    }
   ],
   "source": [
    "df = pd.read_csv('data/ner_dataset.csv', encoding = \"ISO-8859-1\")\n",
    "df = df[:10000]\n",
    "df.head()"
   ]
  },
  {
   "cell_type": "code",
   "execution_count": 3,
   "metadata": {},
   "outputs": [],
   "source": [
    "df = df.fillna(method='ffill')"
   ]
  },
  {
   "cell_type": "code",
   "execution_count": 4,
   "metadata": {},
   "outputs": [
    {
     "data": {
      "text/html": [
       "<div>\n",
       "<style scoped>\n",
       "    .dataframe tbody tr th:only-of-type {\n",
       "        vertical-align: middle;\n",
       "    }\n",
       "\n",
       "    .dataframe tbody tr th {\n",
       "        vertical-align: top;\n",
       "    }\n",
       "\n",
       "    .dataframe thead th {\n",
       "        text-align: right;\n",
       "    }\n",
       "</style>\n",
       "<table border=\"1\" class=\"dataframe\">\n",
       "  <thead>\n",
       "    <tr style=\"text-align: right;\">\n",
       "      <th></th>\n",
       "      <th>Sentence #</th>\n",
       "      <th>Word</th>\n",
       "      <th>POS</th>\n",
       "      <th>Tag</th>\n",
       "    </tr>\n",
       "  </thead>\n",
       "  <tbody>\n",
       "    <tr>\n",
       "      <th>0</th>\n",
       "      <td>Sentence: 1</td>\n",
       "      <td>Thousands</td>\n",
       "      <td>NNS</td>\n",
       "      <td>O</td>\n",
       "    </tr>\n",
       "    <tr>\n",
       "      <th>1</th>\n",
       "      <td>Sentence: 1</td>\n",
       "      <td>of</td>\n",
       "      <td>IN</td>\n",
       "      <td>O</td>\n",
       "    </tr>\n",
       "    <tr>\n",
       "      <th>2</th>\n",
       "      <td>Sentence: 1</td>\n",
       "      <td>demonstrators</td>\n",
       "      <td>NNS</td>\n",
       "      <td>O</td>\n",
       "    </tr>\n",
       "    <tr>\n",
       "      <th>3</th>\n",
       "      <td>Sentence: 1</td>\n",
       "      <td>have</td>\n",
       "      <td>VBP</td>\n",
       "      <td>O</td>\n",
       "    </tr>\n",
       "    <tr>\n",
       "      <th>4</th>\n",
       "      <td>Sentence: 1</td>\n",
       "      <td>marched</td>\n",
       "      <td>VBN</td>\n",
       "      <td>O</td>\n",
       "    </tr>\n",
       "  </tbody>\n",
       "</table>\n",
       "</div>"
      ],
      "text/plain": [
       "    Sentence #           Word  POS Tag\n",
       "0  Sentence: 1      Thousands  NNS   O\n",
       "1  Sentence: 1             of   IN   O\n",
       "2  Sentence: 1  demonstrators  NNS   O\n",
       "3  Sentence: 1           have  VBP   O\n",
       "4  Sentence: 1        marched  VBN   O"
      ]
     },
     "execution_count": 4,
     "metadata": {},
     "output_type": "execute_result"
    }
   ],
   "source": [
    "df.head()"
   ]
  },
  {
   "cell_type": "code",
   "execution_count": 5,
   "metadata": {
    "scrolled": true
   },
   "outputs": [
    {
     "data": {
      "text/html": [
       "<div>\n",
       "<style scoped>\n",
       "    .dataframe tbody tr th:only-of-type {\n",
       "        vertical-align: middle;\n",
       "    }\n",
       "\n",
       "    .dataframe tbody tr th {\n",
       "        vertical-align: top;\n",
       "    }\n",
       "\n",
       "    .dataframe thead th {\n",
       "        text-align: right;\n",
       "    }\n",
       "</style>\n",
       "<table border=\"1\" class=\"dataframe\">\n",
       "  <thead>\n",
       "    <tr style=\"text-align: right;\">\n",
       "      <th></th>\n",
       "      <th>Tag</th>\n",
       "      <th>counts</th>\n",
       "    </tr>\n",
       "  </thead>\n",
       "  <tbody>\n",
       "    <tr>\n",
       "      <th>0</th>\n",
       "      <td>B-art</td>\n",
       "      <td>28</td>\n",
       "    </tr>\n",
       "    <tr>\n",
       "      <th>1</th>\n",
       "      <td>B-eve</td>\n",
       "      <td>10</td>\n",
       "    </tr>\n",
       "    <tr>\n",
       "      <th>2</th>\n",
       "      <td>B-geo</td>\n",
       "      <td>244</td>\n",
       "    </tr>\n",
       "    <tr>\n",
       "      <th>3</th>\n",
       "      <td>B-gpe</td>\n",
       "      <td>303</td>\n",
       "    </tr>\n",
       "    <tr>\n",
       "      <th>4</th>\n",
       "      <td>B-nat</td>\n",
       "      <td>5</td>\n",
       "    </tr>\n",
       "    <tr>\n",
       "      <th>5</th>\n",
       "      <td>B-org</td>\n",
       "      <td>176</td>\n",
       "    </tr>\n",
       "    <tr>\n",
       "      <th>6</th>\n",
       "      <td>B-per</td>\n",
       "      <td>160</td>\n",
       "    </tr>\n",
       "    <tr>\n",
       "      <th>7</th>\n",
       "      <td>B-tim</td>\n",
       "      <td>149</td>\n",
       "    </tr>\n",
       "    <tr>\n",
       "      <th>8</th>\n",
       "      <td>I-art</td>\n",
       "      <td>20</td>\n",
       "    </tr>\n",
       "    <tr>\n",
       "      <th>9</th>\n",
       "      <td>I-eve</td>\n",
       "      <td>10</td>\n",
       "    </tr>\n",
       "    <tr>\n",
       "      <th>10</th>\n",
       "      <td>I-geo</td>\n",
       "      <td>31</td>\n",
       "    </tr>\n",
       "    <tr>\n",
       "      <th>11</th>\n",
       "      <td>I-gpe</td>\n",
       "      <td>20</td>\n",
       "    </tr>\n",
       "    <tr>\n",
       "      <th>12</th>\n",
       "      <td>I-nat</td>\n",
       "      <td>2</td>\n",
       "    </tr>\n",
       "    <tr>\n",
       "      <th>13</th>\n",
       "      <td>I-org</td>\n",
       "      <td>140</td>\n",
       "    </tr>\n",
       "    <tr>\n",
       "      <th>14</th>\n",
       "      <td>I-per</td>\n",
       "      <td>206</td>\n",
       "    </tr>\n",
       "    <tr>\n",
       "      <th>15</th>\n",
       "      <td>I-tim</td>\n",
       "      <td>13</td>\n",
       "    </tr>\n",
       "    <tr>\n",
       "      <th>16</th>\n",
       "      <td>O</td>\n",
       "      <td>8483</td>\n",
       "    </tr>\n",
       "  </tbody>\n",
       "</table>\n",
       "</div>"
      ],
      "text/plain": [
       "      Tag  counts\n",
       "0   B-art      28\n",
       "1   B-eve      10\n",
       "2   B-geo     244\n",
       "3   B-gpe     303\n",
       "4   B-nat       5\n",
       "5   B-org     176\n",
       "6   B-per     160\n",
       "7   B-tim     149\n",
       "8   I-art      20\n",
       "9   I-eve      10\n",
       "10  I-geo      31\n",
       "11  I-gpe      20\n",
       "12  I-nat       2\n",
       "13  I-org     140\n",
       "14  I-per     206\n",
       "15  I-tim      13\n",
       "16      O    8483"
      ]
     },
     "execution_count": 5,
     "metadata": {},
     "output_type": "execute_result"
    }
   ],
   "source": [
    "df.groupby('Tag').size().reset_index(name='counts')"
   ]
  },
  {
   "cell_type": "code",
   "execution_count": 6,
   "metadata": {},
   "outputs": [
    {
     "data": {
      "text/plain": [
       "((6700, 3242), (6700,))"
      ]
     },
     "execution_count": 6,
     "metadata": {},
     "output_type": "execute_result"
    }
   ],
   "source": [
    "X = df.drop('Tag', axis=1)\n",
    "v = DictVectorizer(sparse=False)\n",
    "X = v.fit_transform(X.to_dict('records'))\n",
    "y = df.Tag.values\n",
    "\n",
    "classes = np.unique(y)\n",
    "classes = classes.tolist()\n",
    "\n",
    "X_train, X_test, y_train, y_test = train_test_split(X, y, test_size = 0.33, random_state=0)\n",
    "X_train.shape, y_train.shape"
   ]
  },
  {
   "cell_type": "code",
   "execution_count": 10,
   "metadata": {},
   "outputs": [
    {
     "data": {
      "text/plain": [
       "array(['O', 'O', 'O', ..., 'O', 'B-geo', 'O'], dtype=object)"
      ]
     },
     "execution_count": 10,
     "metadata": {},
     "output_type": "execute_result"
    }
   ],
   "source": [
    "y_test"
   ]
  },
  {
   "cell_type": "code",
   "execution_count": null,
   "metadata": {},
   "outputs": [],
   "source": [
    "y"
   ]
  },
  {
   "cell_type": "code",
   "execution_count": null,
   "metadata": {},
   "outputs": [],
   "source": [
    "X[0].shape"
   ]
  },
  {
   "cell_type": "code",
   "execution_count": 14,
   "metadata": {},
   "outputs": [
    {
     "data": {
      "text/plain": [
       "'O'"
      ]
     },
     "execution_count": 14,
     "metadata": {},
     "output_type": "execute_result"
    }
   ],
   "source": [
    "y[0]"
   ]
  },
  {
   "cell_type": "code",
   "execution_count": null,
   "metadata": {},
   "outputs": [],
   "source": []
  },
  {
   "cell_type": "code",
   "execution_count": null,
   "metadata": {},
   "outputs": [],
   "source": []
  }
 ],
 "metadata": {
  "kernelspec": {
   "display_name": "Python 3",
   "language": "python",
   "name": "python3"
  },
  "language_info": {
   "codemirror_mode": {
    "name": "ipython",
    "version": 3
   },
   "file_extension": ".py",
   "mimetype": "text/x-python",
   "name": "python",
   "nbconvert_exporter": "python",
   "pygments_lexer": "ipython3",
   "version": "3.8.3"
  },
  "toc": {
   "base_numbering": 1,
   "nav_menu": {},
   "number_sections": true,
   "sideBar": true,
   "skip_h1_title": false,
   "title_cell": "Table of Contents",
   "title_sidebar": "Contents",
   "toc_cell": false,
   "toc_position": {},
   "toc_section_display": true,
   "toc_window_display": false
  }
 },
 "nbformat": 4,
 "nbformat_minor": 4
}

{
 "cells": [
  {
   "cell_type": "code",
   "execution_count": 1,
   "metadata": {},
   "outputs": [],
   "source": [
    "import numpy as np\n",
    "\n",
    "import joblib\n",
    "import torch\n",
    "\n",
    "import config\n",
    "import dataset\n",
    "import engine\n",
    "from model import EntityModel\n",
    "\n"
   ]
  },
  {
   "cell_type": "code",
   "execution_count": 2,
   "metadata": {},
   "outputs": [],
   "source": [
    "meta_data = joblib.load(\"meta.bin\")\n",
    "enc_tag = meta_data[\"enc_tag\"]\n",
    "\n",
    "num_tag = len(list(enc_tag.classes_))\n",
    "\n"
   ]
  },
  {
   "cell_type": "code",
   "execution_count": 3,
   "metadata": {},
   "outputs": [
    {
     "data": {
      "text/plain": [
       "array(['B-chemical', 'B-protein', 'I-chemical', 'I-protein', 'O'],\n",
       "      dtype='<U10')"
      ]
     },
     "execution_count": 3,
     "metadata": {},
     "output_type": "execute_result"
    }
   ],
   "source": [
    "enc_tag.classes_"
   ]
  },
  {
   "cell_type": "code",
   "execution_count": 4,
   "metadata": {},
   "outputs": [],
   "source": [
    "model = EntityModel(num_tag=num_tag)\n",
    "model.load_state_dict(torch.load(config.MODEL_PATH))\n",
    "device = torch.device(\"cuda\") if torch.cuda.is_available() else torch.device(\"cpu\") \n",
    "# device = torch.device(\"cpu\")\n",
    "if torch.cuda.is_available(): model.to(device)\n"
   ]
  },
  {
   "cell_type": "code",
   "execution_count": null,
   "metadata": {
    "scrolled": false
   },
   "outputs": [],
   "source": [
    "sentence = \"\"\"\n",
    "President Donald Trump may have broken a U.S. federal law and a Georgia law against election tampering by pressuring the state's top election official to \"find\" enough votes to overturn his loss to President-elect Joe Biden in the state, according to some legal experts.\n",
    "\"\"\"\n",
    "sentence = sentence.lower()\n",
    "tokenized_sentence = config.TOKENIZER.encode(sentence)\n",
    "\n",
    "sentence = sentence.split()\n",
    "print(sentence)\n",
    "print(tokenized_sentence)\n",
    "print(config.TOKENIZER.convert_ids_to_tokens(tokenized_sentence))\n",
    "\n",
    "test_dataset = dataset.EntityDataset(\n",
    "    texts=[sentence],\n",
    "    tags=[[0] * len(sentence)], O_tag_id= enc_tag.transform([\"O\"])[0]\n",
    ")\n",
    "\n"
   ]
  },
  {
   "cell_type": "markdown",
   "metadata": {},
   "source": [
    "## Custom Data"
   ]
  },
  {
   "cell_type": "code",
   "execution_count": 5,
   "metadata": {},
   "outputs": [],
   "source": [
    "import train"
   ]
  },
  {
   "cell_type": "code",
   "execution_count": 6,
   "metadata": {},
   "outputs": [],
   "source": [
    "from sklearn import preprocessing\n",
    "from sklearn import model_selection"
   ]
  },
  {
   "cell_type": "code",
   "execution_count": 7,
   "metadata": {},
   "outputs": [],
   "source": [
    "sentences, tag, enc_tag = train.read_bilou(config.TRAINING_FILE)\n",
    "\n",
    "num_tag = len(list(enc_tag.classes_))\n",
    "\n",
    "(\n",
    "    train_sentences,\n",
    "    test_sentences,\n",
    "    train_tag,\n",
    "    test_tag\n",
    ") = model_selection.train_test_split(sentences, tag, random_state=config.RANDOM_STATE, test_size=0.1)"
   ]
  },
  {
   "cell_type": "code",
   "execution_count": 8,
   "metadata": {},
   "outputs": [],
   "source": [
    "valid_dataset = dataset.EntityDataset(\n",
    "    texts=test_sentences, tags=test_tag, O_tag_id= enc_tag.transform([\"O\"])[0]\n",
    ")\n",
    "\n",
    "valid_data_loader = torch.utils.data.DataLoader(\n",
    "    valid_dataset, batch_size=config.VALID_BATCH_SIZE, num_workers=1\n",
    ")"
   ]
  },
  {
   "cell_type": "code",
   "execution_count": null,
   "metadata": {},
   "outputs": [],
   "source": [
    "enc_tag.classes_"
   ]
  },
  {
   "cell_type": "code",
   "execution_count": null,
   "metadata": {},
   "outputs": [],
   "source": []
  },
  {
   "cell_type": "code",
   "execution_count": null,
   "metadata": {},
   "outputs": [],
   "source": [
    "y_pred = []\n",
    "y_ground = []\n",
    "\n",
    "model.eval()\n",
    "for data in (valid_data_loader):\n",
    "    sentence_lengths = data[\"length\"].tolist()\n",
    "    for k, v in data.items(): #BioBERT is taking alot of space\n",
    "        data[k] = v.to(device)\n",
    "    tags, loss = model(data[\"ids\"],data[\"mask\"], data[\"token_type_ids\"], data[\"target_tag\"])\n",
    "    for ix, tag in enumerate(tags):\n",
    "        result = enc_tag.inverse_transform(\n",
    "                tag.argmax(1).cpu().numpy()\n",
    "            )\n",
    "        \n",
    "        y_pred.extend(result[:sentence_lengths[ix]])\n",
    "\n",
    "        ground_truth_seq = data[\"target_tag\"][ix][:sentence_lengths[ix]].tolist()\n",
    "        ground_truth = enc_tag.inverse_transform(ground_truth_seq)\n",
    "        y_ground.extend(ground_truth)\n"
   ]
  },
  {
   "cell_type": "code",
   "execution_count": null,
   "metadata": {},
   "outputs": [],
   "source": [
    "from sklearn.metrics import classification_report"
   ]
  },
  {
   "cell_type": "code",
   "execution_count": null,
   "metadata": {},
   "outputs": [],
   "source": [
    "print(classification_report(y_pred=(y_pred), y_true=(y_ground), labels=enc_tag.classes_))"
   ]
  },
  {
   "cell_type": "code",
   "execution_count": null,
   "metadata": {},
   "outputs": [],
   "source": [
    "np.array(y_pred)"
   ]
  },
  {
   "cell_type": "code",
   "execution_count": null,
   "metadata": {},
   "outputs": [],
   "source": [
    "tag.shape"
   ]
  },
  {
   "cell_type": "code",
   "execution_count": null,
   "metadata": {},
   "outputs": [],
   "source": [
    "bpe_tok_sent = config.TOKENIZER.convert_ids_to_tokens(tokenized_sentence)\n",
    "result = enc_tag.inverse_transform(\n",
    "            tag.argmax(1).cpu().numpy().reshape(-1)\n",
    "        )[:len(tokenized_sentence)]"
   ]
  },
  {
   "cell_type": "code",
   "execution_count": null,
   "metadata": {
    "scrolled": true
   },
   "outputs": [],
   "source": [
    "result"
   ]
  },
  {
   "cell_type": "markdown",
   "metadata": {},
   "source": [
    "['president', 'donald', 'trump', 'may', 'have', 'broken', 'a', 'u.s.', 'federal', 'law', 'and', 'a', 'georgia', 'law', 'against', 'election', 'tampering', 'by', 'pressuring', 'the', \"state's\", 'top', 'election', 'official', 'to', '\"find\"', 'enough', 'votes', 'to', 'overturn', 'his', 'loss', 'to', 'president-elect', 'joe', 'biden', 'in', 'the', 'state,', 'according', 'to', 'some', 'legal', 'experts.']\n",
    "\n",
    "[101, 2343, 6221, 8398, 2089, 2031, 3714, 1037, 1057, 1012, 1055, 1012, 2976, 2375, 1998, 1037, 4108, 2375, 2114, 2602, 17214, 4842, 2075, 2011, 2811, 12228, 1996, 2110, 1005, 1055, 2327, 2602, 2880, 2000, 1000, 2424, 1000, 2438, 4494, 2000, 2058, 22299, 2010, 3279, 2000, 2343, 1011, 11322, 3533, 7226, 2368, 1999, 1996, 2110, 1010, 2429, 2000, 2070, 3423, 8519, 1012, 102]\n",
    "\n",
    "['[CLS]', 'president', 'donald', 'trump', 'may', 'have', 'broken', 'a', 'u', '.', 's', '.', 'federal', 'law', 'and', 'a', 'georgia', 'law', 'against', 'election', 'tam', '##per', '##ing', 'by', 'press', '##uring', 'the', 'state', \"'\", 's', 'top', 'election', 'official', 'to', '\"', 'find', '\"', 'enough', 'votes', 'to', 'over', '##turn', 'his', 'loss', 'to', 'president', '-', 'elect', 'joe', 'bid', '##en', 'in', 'the', 'state', ',', 'according', 'to', 'some', 'legal', 'experts', '.', '[SEP]']"
   ]
  },
  {
   "cell_type": "markdown",
   "metadata": {},
   "source": [
    "### Assign first BPE token's tag to other BPE tokens"
   ]
  },
  {
   "cell_type": "code",
   "execution_count": null,
   "metadata": {
    "scrolled": true
   },
   "outputs": [],
   "source": [
    "prev_tok_tag = ''\n",
    "\n",
    "\n",
    "concatenated_bpe = ''\n",
    "concatenated_bpes = []\n",
    "concatenated_tags = []\n",
    "\n",
    "new_result = []\n",
    "for idx, (bpe_tok, tag) in enumerate(zip(bpe_tok_sent, result)):\n",
    "    if not \"##\" in bpe_tok:\n",
    "        if idx!=0: \n",
    "            concatenated_bpes.append(concatenated_bpe)\n",
    "            concatenated_tags.append(main_tok_tag)\n",
    "        concatenated_bpe = ''\n",
    "        concatenated_bpe+=(bpe_tok).replace(\"##\",\"\")\n",
    "        main_tok_tag = tag\n",
    "    else:\n",
    "        concatenated_bpe+=(bpe_tok).replace(\"##\",\"\")"
   ]
  },
  {
   "cell_type": "code",
   "execution_count": 14,
   "metadata": {},
   "outputs": [],
   "source": [
    "def undo_bpe(bpe_tok_sent, result, ground_truth):\n",
    "    prev_tok_tag = ''\n",
    "\n",
    "\n",
    "    concatenated_bpe = ''\n",
    "    concatenated_bpes = []\n",
    "    concatenated_tags = []\n",
    "    concatenated_ground_tags = []\n",
    "    \n",
    "    new_result = []\n",
    "    for idx, (bpe_tok, tag, ground_tag) in enumerate(zip(bpe_tok_sent, result, ground_truth)):\n",
    "        if not \"##\" in bpe_tok:\n",
    "            if idx!=0: \n",
    "                concatenated_bpes.append(concatenated_bpe)\n",
    "                concatenated_tags.append(main_tok_tag)\n",
    "                concatenated_ground_tags.append(main_ground_tag)\n",
    "            concatenated_bpe = ''\n",
    "            concatenated_bpe+=(bpe_tok).replace(\"##\",\"\")\n",
    "            main_tok_tag = tag\n",
    "            main_ground_tag = ground_tag\n",
    "        else:\n",
    "            concatenated_bpe+=(bpe_tok).replace(\"##\",\"\")\n",
    "        \n",
    "    return concatenated_bpes, concatenated_tags, concatenated_ground_tags"
   ]
  },
  {
   "cell_type": "code",
   "execution_count": 15,
   "metadata": {},
   "outputs": [],
   "source": [
    "from tqdm import tqdm"
   ]
  },
  {
   "cell_type": "code",
   "execution_count": null,
   "metadata": {},
   "outputs": [],
   "source": [
    "y_pred = []\n",
    "y_ground = []\n",
    "\n",
    "model.eval()\n",
    "for data in tqdm(valid_data_loader):\n",
    "    sentence_lengths = data[\"length\"].tolist()\n",
    "    for k, v in data.items(): #BioBERT is taking alot of space\n",
    "        data[k] = v.to(device)\n",
    "    tags, loss = model(data[\"ids\"],data[\"mask\"], data[\"token_type_ids\"], data[\"target_tag\"])\n",
    "    for ix, tag in enumerate(tags):\n",
    "        result = enc_tag.inverse_transform(\n",
    "                tag.argmax(1).cpu().numpy()\n",
    "            )\n",
    "        \n",
    "        result_shortened = result[:sentence_lengths[ix]]\n",
    "\n",
    "\n",
    "        ground_truth_seq = data[\"target_tag\"][ix][:sentence_lengths[ix]].tolist()\n",
    "        ground_truth = enc_tag.inverse_transform(ground_truth_seq)\n",
    "        \n",
    "\n",
    "        \n",
    "        \n",
    "        text_sentence = config.TOKENIZER.convert_ids_to_tokens(data[\"ids\"][ix][:sentence_lengths[ix]].tolist())\n",
    "        \n",
    "#         print(f\"Before \\n{text_sentence}\\n{result_shortened}\\n{ground_truth}\\n{'='*25}\\n\")\n",
    "        \n",
    "        text, res, groundtruth = undo_bpe(text_sentence, result_shortened, ground_truth)\n",
    "        \n",
    "#         print(f\"After \\n{text}\\n{res}\\n{groundtruth}\\n{'='*25}\\n\")\n",
    "#         print(f\"=*=\"*40)\n",
    "        \n",
    "        y_pred.extend(res)\n",
    "        y_ground.extend(groundtruth)\n",
    "        \n"
   ]
  },
  {
   "cell_type": "code",
   "execution_count": 18,
   "metadata": {},
   "outputs": [],
   "source": [
    "from sklearn.metrics import classification_report"
   ]
  },
  {
   "cell_type": "code",
   "execution_count": 19,
   "metadata": {},
   "outputs": [
    {
     "name": "stdout",
     "output_type": "stream",
     "text": [
      "              precision    recall  f1-score   support\n",
      "\n",
      "  B-chemical       0.91      0.97      0.94      1088\n",
      "   B-protein       0.92      0.95      0.93      5579\n",
      "  I-chemical       0.91      0.86      0.89       431\n",
      "   I-protein       0.89      0.93      0.91      2572\n",
      "           O       0.99      0.99      0.99     61936\n",
      "\n",
      "    accuracy                           0.98     71606\n",
      "   macro avg       0.92      0.94      0.93     71606\n",
      "weighted avg       0.98      0.98      0.98     71606\n",
      "\n"
     ]
    }
   ],
   "source": [
    "print(classification_report(y_pred=(y_pred), y_true=(y_ground), labels=enc_tag.classes_))"
   ]
  },
  {
   "cell_type": "code",
   "execution_count": null,
   "metadata": {},
   "outputs": [],
   "source": []
  },
  {
   "cell_type": "code",
   "execution_count": 49,
   "metadata": {},
   "outputs": [
    {
     "name": "stdout",
     "output_type": "stream",
     "text": [
      "torch.Size([128])\n"
     ]
    }
   ],
   "source": [
    "print(data['ids'][0].shape)"
   ]
  }
 ],
 "metadata": {
  "kernelspec": {
   "display_name": "Python 3",
   "language": "python",
   "name": "python3"
  },
  "language_info": {
   "codemirror_mode": {
    "name": "ipython",
    "version": 3
   },
   "file_extension": ".py",
   "mimetype": "text/x-python",
   "name": "python",
   "nbconvert_exporter": "python",
   "pygments_lexer": "ipython3",
   "version": "3.8.3"
  },
  "toc": {
   "base_numbering": 1,
   "nav_menu": {},
   "number_sections": true,
   "sideBar": true,
   "skip_h1_title": false,
   "title_cell": "Table of Contents",
   "title_sidebar": "Contents",
   "toc_cell": false,
   "toc_position": {},
   "toc_section_display": true,
   "toc_window_display": false
  }
 },
 "nbformat": 4,
 "nbformat_minor": 4
}
